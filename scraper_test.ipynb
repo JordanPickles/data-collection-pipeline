{
 "cells": [
  {
   "cell_type": "code",
   "execution_count": 6,
   "metadata": {},
   "outputs": [],
   "source": [
    "from selenium import webdriver \n",
    "from selenium.webdriver.support.ui import WebDriverWait\n",
    "from selenium.webdriver.support import expected_conditions as EC\n",
    "from selenium.webdriver.common.by import By\n",
    "from selenium.common.exceptions import TimeoutException\n",
    "from selenium.common.exceptions import NoSuchElementException\n",
    "from selenium.common.exceptions import StaleElementReferenceException\n",
    "import time"
   ]
  },
  {
   "cell_type": "code",
   "execution_count": 8,
   "metadata": {},
   "outputs": [],
   "source": [
    "url = 'https://coinmarketcap.com/currencies/polkadot-new/'\n",
    "driver = webdriver.Chrome()\n",
    "page = driver.get(url)\n",
    "#delay = 20\n",
    "#WebDriverWait(driver, delay).until(EC.presence_of_element_located((By.XPATH, '//*[@id=\"__next\"]/div/div[1]/div[2]/div/div[1]/div[2]/div/div[2]/div[1]/div/span')))         \n",
    "#price = driver.find_element(by=By.XPATH, value = '//*[@id=\"__next\"]/div/div[1]/div[2]/div/div[1]/div[3]/div/div[2]/div[1]/div/span').text\n",
    "#print(price)\n",
    "#market_cap = driver.find_element(by=By.XPATH, value = '//*[@id=\"__next\"]/div/div[1]/div[2]/div/div[1]/div[3]/div/div[3]/div[1]/div[1]/div[1]/div[2]/div').text\n",
    "#print(market_cap)\n",
    "#daily_volume = driver.find_element(by=By.XPATH, value = '//*[@id=\"__next\"]/div/div[1]/div[2]/div/div[1]/div[3]/div/div[3]/div[1]/div[3]/div[1]/div[2]/div').text\n",
    "#print(daily_volume)"
   ]
  },
  {
   "cell_type": "code",
   "execution_count": null,
   "metadata": {},
   "outputs": [],
   "source": []
  },
  {
   "cell_type": "code",
   "execution_count": null,
   "metadata": {},
   "outputs": [],
   "source": []
  }
 ],
 "metadata": {
  "kernelspec": {
   "display_name": "Python 3.10.7 64-bit",
   "language": "python",
   "name": "python3"
  },
  "language_info": {
   "codemirror_mode": {
    "name": "ipython",
    "version": 3
   },
   "file_extension": ".py",
   "mimetype": "text/x-python",
   "name": "python",
   "nbconvert_exporter": "python",
   "pygments_lexer": "ipython3",
   "version": "3.10.7"
  },
  "orig_nbformat": 4,
  "vscode": {
   "interpreter": {
    "hash": "aee8b7b246df8f9039afb4144a1f6fd8d2ca17a180786b69acc140d282b71a49"
   }
  }
 },
 "nbformat": 4,
 "nbformat_minor": 2
}
